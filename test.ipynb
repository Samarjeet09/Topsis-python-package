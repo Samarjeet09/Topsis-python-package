{
 "cells": [
  {
   "cell_type": "code",
   "execution_count": 9,
   "metadata": {},
   "outputs": [],
   "source": [
    "import numpy as np\n",
    "import pandas as pd"
   ]
  },
  {
   "cell_type": "code",
   "execution_count": 17,
   "metadata": {},
   "outputs": [],
   "source": [
    "df= pd.read_excel('102103562.xlsx')"
   ]
  },
  {
   "cell_type": "code",
   "execution_count": 107,
   "metadata": {},
   "outputs": [
    {
     "data": {
      "text/plain": [
       "9"
      ]
     },
     "execution_count": 107,
     "metadata": {},
     "output_type": "execute_result"
    }
   ],
   "source": [
    "a =np.arange(9)\n",
    "len(a)"
   ]
  },
  {
   "cell_type": "code",
   "execution_count": 18,
   "metadata": {},
   "outputs": [
    {
     "data": {
      "text/html": [
       "<div>\n",
       "<style scoped>\n",
       "    .dataframe tbody tr th:only-of-type {\n",
       "        vertical-align: middle;\n",
       "    }\n",
       "\n",
       "    .dataframe tbody tr th {\n",
       "        vertical-align: top;\n",
       "    }\n",
       "\n",
       "    .dataframe thead th {\n",
       "        text-align: right;\n",
       "    }\n",
       "</style>\n",
       "<table border=\"1\" class=\"dataframe\">\n",
       "  <thead>\n",
       "    <tr style=\"text-align: right;\">\n",
       "      <th></th>\n",
       "      <th>P1</th>\n",
       "      <th>P2</th>\n",
       "      <th>P3</th>\n",
       "      <th>P4</th>\n",
       "      <th>P5</th>\n",
       "    </tr>\n",
       "  </thead>\n",
       "  <tbody>\n",
       "    <tr>\n",
       "      <th>0</th>\n",
       "      <td>0.84</td>\n",
       "      <td>0.71</td>\n",
       "      <td>6.7</td>\n",
       "      <td>42.1</td>\n",
       "      <td>12.59</td>\n",
       "    </tr>\n",
       "    <tr>\n",
       "      <th>1</th>\n",
       "      <td>0.91</td>\n",
       "      <td>0.83</td>\n",
       "      <td>7.0</td>\n",
       "      <td>31.7</td>\n",
       "      <td>10.11</td>\n",
       "    </tr>\n",
       "    <tr>\n",
       "      <th>2</th>\n",
       "      <td>0.79</td>\n",
       "      <td>0.62</td>\n",
       "      <td>4.8</td>\n",
       "      <td>46.7</td>\n",
       "      <td>13.23</td>\n",
       "    </tr>\n",
       "    <tr>\n",
       "      <th>3</th>\n",
       "      <td>0.78</td>\n",
       "      <td>0.61</td>\n",
       "      <td>6.4</td>\n",
       "      <td>42.4</td>\n",
       "      <td>12.55</td>\n",
       "    </tr>\n",
       "    <tr>\n",
       "      <th>4</th>\n",
       "      <td>0.94</td>\n",
       "      <td>0.88</td>\n",
       "      <td>3.6</td>\n",
       "      <td>62.2</td>\n",
       "      <td>16.91</td>\n",
       "    </tr>\n",
       "    <tr>\n",
       "      <th>5</th>\n",
       "      <td>0.88</td>\n",
       "      <td>0.77</td>\n",
       "      <td>6.5</td>\n",
       "      <td>51.5</td>\n",
       "      <td>14.91</td>\n",
       "    </tr>\n",
       "    <tr>\n",
       "      <th>6</th>\n",
       "      <td>0.66</td>\n",
       "      <td>0.44</td>\n",
       "      <td>5.3</td>\n",
       "      <td>48.9</td>\n",
       "      <td>13.83</td>\n",
       "    </tr>\n",
       "    <tr>\n",
       "      <th>7</th>\n",
       "      <td>0.93</td>\n",
       "      <td>0.86</td>\n",
       "      <td>3.4</td>\n",
       "      <td>37.0</td>\n",
       "      <td>10.55</td>\n",
       "    </tr>\n",
       "  </tbody>\n",
       "</table>\n",
       "</div>"
      ],
      "text/plain": [
       "     P1    P2   P3    P4     P5\n",
       "0  0.84  0.71  6.7  42.1  12.59\n",
       "1  0.91  0.83  7.0  31.7  10.11\n",
       "2  0.79  0.62  4.8  46.7  13.23\n",
       "3  0.78  0.61  6.4  42.4  12.55\n",
       "4  0.94  0.88  3.6  62.2  16.91\n",
       "5  0.88  0.77  6.5  51.5  14.91\n",
       "6  0.66  0.44  5.3  48.9  13.83\n",
       "7  0.93  0.86  3.4  37.0  10.55"
      ]
     },
     "execution_count": 18,
     "metadata": {},
     "output_type": "execute_result"
    }
   ],
   "source": [
    "df = df.iloc[:,1:]\n",
    "df"
   ]
  },
  {
   "cell_type": "code",
   "execution_count": 69,
   "metadata": {},
   "outputs": [
    {
     "data": {
      "text/plain": [
       "array([[250,  16,  12,   5],\n",
       "       [200,  16,   8,   3],\n",
       "       [300,  32,  16,   4],\n",
       "       [275,  32,   8,   4],\n",
       "       [255,  16,  16,   2]])"
      ]
     },
     "execution_count": 69,
     "metadata": {},
     "output_type": "execute_result"
    }
   ],
   "source": [
    "mat = np.array([[250,16,12,5],[200,16,8,3],[300,32,16,4],[275,32,8,4],[255,16,16,2]])\n",
    "mat"
   ]
  },
  {
   "cell_type": "code",
   "execution_count": 40,
   "metadata": {},
   "outputs": [
    {
     "data": {
      "text/plain": [
       "array([[0.88339223, 0.0565371 , 0.04240283, 0.01766784],\n",
       "       [0.88105727, 0.07048458, 0.03524229, 0.01321586],\n",
       "       [0.85227273, 0.09090909, 0.04545455, 0.01136364],\n",
       "       [0.86206897, 0.10031348, 0.02507837, 0.01253918],\n",
       "       [0.88235294, 0.05536332, 0.05536332, 0.00692042]])"
      ]
     },
     "execution_count": 40,
     "metadata": {},
     "output_type": "execute_result"
    }
   ],
   "source": [
    "preprocessing.normalize(mat,'l1')"
   ]
  },
  {
   "cell_type": "code",
   "execution_count": 103,
   "metadata": {},
   "outputs": [],
   "source": [
    "rows,cols = mat.shape\n",
    "wts= np.array([0.25]*4)\n",
    "# mat / rootOfSumOfSquare * weight \n",
    "impact = [-1,1,1,1]\n",
    "for i in range(cols):\n",
    "    temp =0\n",
    "    for j in range(rows):\n",
    "        temp += mat[j,i]**2\n",
    "    temp=temp**0.5\n",
    "    wts[i] /=temp\n",
    "    \n",
    "\n",
    "weightedNormalized = mat*wts\n",
    "\n",
    "idealBestWorst = []#(best,worst)\n",
    "\n",
    "for i in range(cols):\n",
    "    maxi = weightedNormalized[:,i].max()\n",
    "    mini = weightedNormalized[:,i].min()\n",
    "    idealBestWorst.append((maxi,mini) if impact[i] ==1 else (mini,maxi))\n",
    "\n",
    "topsisScore = []\n",
    "for i in range(rows):\n",
    "    temp_p,temp_n = 0,0\n",
    "    for j in range(cols):\n",
    "        temp_p += (weightedNormalized[i][j] - idealBestWorst[j][0])**2\n",
    "        temp_n += (weightedNormalized[i][j] - idealBestWorst[j][1])**2\n",
    "    temp_p,temp_n = temp_p**0.5, temp_n**0.5\n",
    "    topsisScore.append( temp_n / (temp_p+ temp_n))\n",
    "df = pd.DataFrame(mat)\n",
    "df[\"score\"] = np.array(topsisScore).T\n",
    "\n",
    "df['rank'] = df['score'].rank(method='max',ascending=False)\n",
    "df['rank'] = df.astype({'rank':int})['rank']\n",
    "    "
   ]
  },
  {
   "cell_type": "code",
   "execution_count": 104,
   "metadata": {},
   "outputs": [
    {
     "data": {
      "text/html": [
       "<div>\n",
       "<style scoped>\n",
       "    .dataframe tbody tr th:only-of-type {\n",
       "        vertical-align: middle;\n",
       "    }\n",
       "\n",
       "    .dataframe tbody tr th {\n",
       "        vertical-align: top;\n",
       "    }\n",
       "\n",
       "    .dataframe thead th {\n",
       "        text-align: right;\n",
       "    }\n",
       "</style>\n",
       "<table border=\"1\" class=\"dataframe\">\n",
       "  <thead>\n",
       "    <tr style=\"text-align: right;\">\n",
       "      <th></th>\n",
       "      <th>0</th>\n",
       "      <th>1</th>\n",
       "      <th>2</th>\n",
       "      <th>3</th>\n",
       "      <th>score</th>\n",
       "      <th>rank</th>\n",
       "    </tr>\n",
       "  </thead>\n",
       "  <tbody>\n",
       "    <tr>\n",
       "      <th>0</th>\n",
       "      <td>250</td>\n",
       "      <td>16</td>\n",
       "      <td>12</td>\n",
       "      <td>5</td>\n",
       "      <td>0.534362</td>\n",
       "      <td>3</td>\n",
       "    </tr>\n",
       "    <tr>\n",
       "      <th>1</th>\n",
       "      <td>200</td>\n",
       "      <td>16</td>\n",
       "      <td>8</td>\n",
       "      <td>3</td>\n",
       "      <td>0.305162</td>\n",
       "      <td>5</td>\n",
       "    </tr>\n",
       "    <tr>\n",
       "      <th>2</th>\n",
       "      <td>300</td>\n",
       "      <td>32</td>\n",
       "      <td>16</td>\n",
       "      <td>4</td>\n",
       "      <td>0.694838</td>\n",
       "      <td>1</td>\n",
       "    </tr>\n",
       "    <tr>\n",
       "      <th>3</th>\n",
       "      <td>275</td>\n",
       "      <td>32</td>\n",
       "      <td>8</td>\n",
       "      <td>4</td>\n",
       "      <td>0.535505</td>\n",
       "      <td>2</td>\n",
       "    </tr>\n",
       "    <tr>\n",
       "      <th>4</th>\n",
       "      <td>255</td>\n",
       "      <td>16</td>\n",
       "      <td>16</td>\n",
       "      <td>2</td>\n",
       "      <td>0.382517</td>\n",
       "      <td>4</td>\n",
       "    </tr>\n",
       "  </tbody>\n",
       "</table>\n",
       "</div>"
      ],
      "text/plain": [
       "     0   1   2  3     score  rank\n",
       "0  250  16  12  5  0.534362     3\n",
       "1  200  16   8  3  0.305162     5\n",
       "2  300  32  16  4  0.694838     1\n",
       "3  275  32   8  4  0.535505     2\n",
       "4  255  16  16  2  0.382517     4"
      ]
     },
     "execution_count": 104,
     "metadata": {},
     "output_type": "execute_result"
    }
   ],
   "source": [
    "df"
   ]
  },
  {
   "cell_type": "code",
   "execution_count": 19,
   "metadata": {},
   "outputs": [
    {
     "name": "stdout",
     "output_type": "stream",
     "text": [
      "[[ 0.84  0.71  6.7  42.1  12.59]\n",
      " [ 0.91  0.83  7.   31.7  10.11]\n",
      " [ 0.79  0.62  4.8  46.7  13.23]\n",
      " [ 0.78  0.61  6.4  42.4  12.55]\n",
      " [ 0.94  0.88  3.6  62.2  16.91]\n",
      " [ 0.88  0.77  6.5  51.5  14.91]\n",
      " [ 0.66  0.44  5.3  48.9  13.83]\n",
      " [ 0.93  0.86  3.4  37.   10.55]]\n"
     ]
    }
   ],
   "source": [
    "arr = np.array(df)\n",
    "print(arr)\n"
   ]
  },
  {
   "cell_type": "code",
   "execution_count": 20,
   "metadata": {},
   "outputs": [],
   "source": [
    "from sklearn import preprocessing"
   ]
  },
  {
   "cell_type": "code",
   "execution_count": 21,
   "metadata": {},
   "outputs": [
    {
     "data": {
      "text/plain": [
       "array([[0.01889183, 0.01596809, 0.15068482, 0.94684046, 0.28315253],\n",
       "       [0.02674598, 0.02439469, 0.20573832, 0.9317007 , 0.29714492],\n",
       "       [0.01619352, 0.01270884, 0.098391  , 0.95726242, 0.27119019],\n",
       "       [0.01745354, 0.01364956, 0.14320852, 0.94875647, 0.28082297],\n",
       "       [0.01455763, 0.01362842, 0.05575264, 0.96328165, 0.26188252],\n",
       "       [0.01629022, 0.01425394, 0.1203255 , 0.95334816, 0.27600818],\n",
       "       [0.01291588, 0.00861059, 0.10371844, 0.95694934, 0.27064641],\n",
       "       [0.02406496, 0.02225362, 0.08797942, 0.95742312, 0.27299497]])"
      ]
     },
     "execution_count": 21,
     "metadata": {},
     "output_type": "execute_result"
    }
   ],
   "source": [
    "preprocessing.normalize(arr)"
   ]
  },
  {
   "cell_type": "code",
   "execution_count": 88,
   "metadata": {},
   "outputs": [],
   "source": [
    "def topsis(df: pd.DataFrame, wts: np.ndarray, impact: np.ndarray) -> pd.DataFrame:\n",
    "    mat = np.array(df.iloc[1:])\n",
    "    rows, cols = mat.shape\n",
    "    wts = np.array([0.25] * 4)\n",
    "    # mat / rootOfSumOfSquare * weight\n",
    "    impact = [-1, 1, 1, 1]\n",
    "    for i in range(cols):\n",
    "        temp = 0\n",
    "        for j in range(rows):\n",
    "            temp += mat[j, i] ** 2\n",
    "        temp = temp**0.5\n",
    "        wts[i] /= temp\n",
    "\n",
    "\n",
    "    weightedNormalized = mat * wts\n",
    "\n",
    "    idealBestWorst = []  # (best,worst)\n",
    "\n",
    "    for i in range(cols):\n",
    "        maxi = weightedNormalized[:, i].max()\n",
    "        mini = weightedNormalized[:, i].min()\n",
    "        idealBestWorst.append((maxi, mini) if impact[i] == 1 else (mini, maxi))\n",
    "\n",
    "    topsisScore = []\n",
    "    for i in range(rows):\n",
    "        temp_p, temp_n = 0, 0\n",
    "        for j in range(cols):\n",
    "            temp_p += (weightedNormalized[i][j] - idealBestWorst[j][0]) ** 2\n",
    "            temp_n += (weightedNormalized[i][j] - idealBestWorst[j][1]) ** 2\n",
    "        temp_p, temp_n = temp_p**0.5, temp_n**0.5\n",
    "        topsisScore.append(temp_n / (temp_p + temp_n))\n",
    "    df = pd.DataFrame(mat)\n",
    "    df[\"score\"] = np.array(topsisScore).T \n",
    "    print(\"hello\")"
   ]
  },
  {
   "cell_type": "code",
   "execution_count": 87,
   "metadata": {},
   "outputs": [
    {
     "data": {
      "text/html": [
       "<div>\n",
       "<style scoped>\n",
       "    .dataframe tbody tr th:only-of-type {\n",
       "        vertical-align: middle;\n",
       "    }\n",
       "\n",
       "    .dataframe tbody tr th {\n",
       "        vertical-align: top;\n",
       "    }\n",
       "\n",
       "    .dataframe thead th {\n",
       "        text-align: right;\n",
       "    }\n",
       "</style>\n",
       "<table border=\"1\" class=\"dataframe\">\n",
       "  <thead>\n",
       "    <tr style=\"text-align: right;\">\n",
       "      <th></th>\n",
       "      <th>P1</th>\n",
       "      <th>P2</th>\n",
       "      <th>P3</th>\n",
       "      <th>P4</th>\n",
       "      <th>P5</th>\n",
       "    </tr>\n",
       "  </thead>\n",
       "  <tbody>\n",
       "    <tr>\n",
       "      <th>0</th>\n",
       "      <td>0.84</td>\n",
       "      <td>0.71</td>\n",
       "      <td>6.7</td>\n",
       "      <td>42.1</td>\n",
       "      <td>12.59</td>\n",
       "    </tr>\n",
       "    <tr>\n",
       "      <th>1</th>\n",
       "      <td>0.91</td>\n",
       "      <td>0.83</td>\n",
       "      <td>7.0</td>\n",
       "      <td>31.7</td>\n",
       "      <td>10.11</td>\n",
       "    </tr>\n",
       "    <tr>\n",
       "      <th>2</th>\n",
       "      <td>0.79</td>\n",
       "      <td>0.62</td>\n",
       "      <td>4.8</td>\n",
       "      <td>46.7</td>\n",
       "      <td>13.23</td>\n",
       "    </tr>\n",
       "    <tr>\n",
       "      <th>3</th>\n",
       "      <td>0.78</td>\n",
       "      <td>0.61</td>\n",
       "      <td>6.4</td>\n",
       "      <td>42.4</td>\n",
       "      <td>12.55</td>\n",
       "    </tr>\n",
       "    <tr>\n",
       "      <th>4</th>\n",
       "      <td>0.94</td>\n",
       "      <td>0.88</td>\n",
       "      <td>3.6</td>\n",
       "      <td>62.2</td>\n",
       "      <td>16.91</td>\n",
       "    </tr>\n",
       "    <tr>\n",
       "      <th>5</th>\n",
       "      <td>0.88</td>\n",
       "      <td>0.77</td>\n",
       "      <td>6.5</td>\n",
       "      <td>51.5</td>\n",
       "      <td>14.91</td>\n",
       "    </tr>\n",
       "    <tr>\n",
       "      <th>6</th>\n",
       "      <td>0.66</td>\n",
       "      <td>0.44</td>\n",
       "      <td>5.3</td>\n",
       "      <td>48.9</td>\n",
       "      <td>13.83</td>\n",
       "    </tr>\n",
       "    <tr>\n",
       "      <th>7</th>\n",
       "      <td>0.93</td>\n",
       "      <td>0.86</td>\n",
       "      <td>3.4</td>\n",
       "      <td>37.0</td>\n",
       "      <td>10.55</td>\n",
       "    </tr>\n",
       "  </tbody>\n",
       "</table>\n",
       "</div>"
      ],
      "text/plain": [
       "     P1    P2   P3    P4     P5\n",
       "0  0.84  0.71  6.7  42.1  12.59\n",
       "1  0.91  0.83  7.0  31.7  10.11\n",
       "2  0.79  0.62  4.8  46.7  13.23\n",
       "3  0.78  0.61  6.4  42.4  12.55\n",
       "4  0.94  0.88  3.6  62.2  16.91\n",
       "5  0.88  0.77  6.5  51.5  14.91\n",
       "6  0.66  0.44  5.3  48.9  13.83\n",
       "7  0.93  0.86  3.4  37.0  10.55"
      ]
     },
     "execution_count": 87,
     "metadata": {},
     "output_type": "execute_result"
    }
   ],
   "source": [
    "df"
   ]
  }
 ],
 "metadata": {
  "kernelspec": {
   "display_name": "test",
   "language": "python",
   "name": "python3"
  },
  "language_info": {
   "codemirror_mode": {
    "name": "ipython",
    "version": 3
   },
   "file_extension": ".py",
   "mimetype": "text/x-python",
   "name": "python",
   "nbconvert_exporter": "python",
   "pygments_lexer": "ipython3",
   "version": "3.10.11"
  }
 },
 "nbformat": 4,
 "nbformat_minor": 2
}
